{
 "cells": [
  {
   "cell_type": "code",
   "execution_count": 1,
   "metadata": {},
   "outputs": [],
   "source": [
    "import torch\n",
    "import numpy as np\n",
    "from datetime import datetime\n",
    "from utils import *\n",
    "from network import UNet, lossOptimiser\n",
    "from dataset import *\n",
    "import argparse\n",
    "from noise2noise import Noise2Noise"
   ]
  },
  {
   "cell_type": "code",
   "execution_count": 2,
   "metadata": {},
   "outputs": [],
   "source": [
    "from torch.utils.data import DataLoader\n"
   ]
  },
  {
   "cell_type": "code",
   "execution_count": 3,
   "metadata": {},
   "outputs": [
    {
     "name": "stdout",
     "output_type": "stream",
     "text": [
      "cuda:0\n"
     ]
    }
   ],
   "source": [
    "device = torch.device(\"cuda:0\" if torch.cuda.is_available() else \"cpu\")\n",
    "print(device)"
   ]
  },
  {
   "cell_type": "code",
   "execution_count": 8,
   "metadata": {},
   "outputs": [],
   "source": [
    "config = {\n",
    "    'device':device,\n",
    "    'dataset':'gaussian',\n",
    "    'batch_size':2,\n",
    "    'num_workers':1,\n",
    "    'learning_rate':0.001,\n",
    "    'checkpoint_dir': './checkpoint/.',\n",
    "    'root_dir':'/home/turing/Documents/BE/',\n",
    "    'log_dir': './log/',\n",
    "    'data_folder':'./data/',\n",
    "    'num_epochs': 300,\n",
    "}\n"
   ]
  },
  {
   "cell_type": "code",
   "execution_count": 9,
   "metadata": {},
   "outputs": [
    {
     "name": "stdout",
     "output_type": "stream",
     "text": [
      "gaussian dataset was created.\n",
      "gaussian dataset was created.\n"
     ]
    }
   ],
   "source": [
    "trainloader = datasetLoader(config)\n",
    "validloader = datasetLoader(config)"
   ]
  },
  {
   "cell_type": "code",
   "execution_count": 10,
   "metadata": {},
   "outputs": [],
   "source": [
    "NET = Noise2Noise(config, trainloader,validloader,trainable=True)"
   ]
  },
  {
   "cell_type": "code",
   "execution_count": 11,
   "metadata": {},
   "outputs": [
    {
     "name": "stderr",
     "output_type": "stream",
     "text": [
      "/home/turing/anaconda3/envs/pytorch/lib/python3.6/site-packages/torch/nn/modules/upsampling.py:122: UserWarning: nn.Upsampling is deprecated. Use nn.functional.interpolate instead.\n",
      "  warnings.warn(\"nn.Upsampling is deprecated. Use nn.functional.interpolate instead.\")\n",
      "/home/turing/Documents/BE/noise2noise.py:111: UserWarning: invalid index of a 0-dim tensor. This will be an error in PyTorch 0.5. Use tensor.item() to convert a 0-dim tensor to a Python number\n",
      "  running_loss += loss_size.data[0]\n"
     ]
    },
    {
     "name": "stdout",
     "output_type": "stream",
     "text": [
      "Epoch: 0, total_steps: 0, train_loss: 0.34942540526390076, time: 0:00:00.045510\n",
      "Epoch: 0, total_steps: 10, train_loss: 0.5109443664550781, time: 0:00:00.040478\n",
      "Epoch: 0, total_steps: 20, train_loss: 0.5483903288841248, time: 0:00:00.048046\n",
      "Epoch: 0, total_steps: 30, train_loss: 0.5739454627037048, time: 0:00:00.040621\n",
      "Epoch: 0, total_steps: 40, train_loss: 0.587814450263977, time: 0:00:00.064882\n",
      "validating and saving the model at the end of epoch 0 \t Time Taken: 14 sec\n",
      "Epoch: 1, total_steps: 0, train_loss: 0.013599102385342121, time: 0:00:00.041260\n",
      "Epoch: 1, total_steps: 10, train_loss: 0.03985058143734932, time: 0:00:00.049568\n",
      "Epoch: 1, total_steps: 20, train_loss: 0.05639663338661194, time: 0:00:00.066176\n",
      "Epoch: 1, total_steps: 30, train_loss: 0.06766235083341599, time: 0:00:00.043265\n",
      "Epoch: 1, total_steps: 40, train_loss: 0.08430823683738708, time: 0:00:00.045613\n",
      "validating and saving the model at the end of epoch 1 \t Time Taken: 14 sec\n",
      "Epoch: 2, total_steps: 0, train_loss: 0.009939882904291153, time: 0:00:00.041252\n",
      "Epoch: 2, total_steps: 10, train_loss: 0.021295588463544846, time: 0:00:00.044269\n",
      "Epoch: 2, total_steps: 20, train_loss: 0.030906274914741516, time: 0:00:00.040378\n",
      "Epoch: 2, total_steps: 30, train_loss: 0.0367821604013443, time: 0:00:00.059056\n",
      "Epoch: 2, total_steps: 40, train_loss: 0.0449240505695343, time: 0:00:00.044804\n",
      "validating and saving the model at the end of epoch 2 \t Time Taken: 14 sec\n",
      "Epoch: 3, total_steps: 0, train_loss: 0.007664431352168322, time: 0:00:00.041160\n",
      "Epoch: 3, total_steps: 10, train_loss: 0.012633908540010452, time: 0:00:00.043147\n",
      "Epoch: 3, total_steps: 20, train_loss: 0.017065223306417465, time: 0:00:00.044918\n",
      "Epoch: 3, total_steps: 30, train_loss: 0.02338353917002678, time: 0:00:00.042028\n",
      "Epoch: 3, total_steps: 40, train_loss: 0.0283323023468256, time: 0:00:00.041136\n",
      "validating and saving the model at the end of epoch 3 \t Time Taken: 14 sec\n",
      "Epoch: 4, total_steps: 0, train_loss: 0.00919950008392334, time: 0:00:00.041180\n",
      "Epoch: 4, total_steps: 10, train_loss: 0.016697268933057785, time: 0:00:00.040924\n",
      "Epoch: 4, total_steps: 20, train_loss: 0.022773385047912598, time: 0:00:00.041075\n",
      "Epoch: 4, total_steps: 30, train_loss: 0.027013838291168213, time: 0:00:00.043198\n",
      "Epoch: 4, total_steps: 40, train_loss: 0.034022919833660126, time: 0:00:00.067660\n",
      "validating and saving the model at the end of epoch 4 \t Time Taken: 14 sec\n",
      "Epoch: 5, total_steps: 0, train_loss: 0.003719716565683484, time: 0:00:00.046014\n",
      "Epoch: 5, total_steps: 10, train_loss: 0.008639121428132057, time: 0:00:00.060002\n",
      "Epoch: 5, total_steps: 20, train_loss: 0.014389555901288986, time: 0:00:00.040624\n",
      "Epoch: 5, total_steps: 30, train_loss: 0.019777590408921242, time: 0:00:00.076759\n",
      "Epoch: 5, total_steps: 40, train_loss: 0.022696129977703094, time: 0:00:00.040998\n",
      "validating and saving the model at the end of epoch 5 \t Time Taken: 14 sec\n",
      "Epoch: 6, total_steps: 0, train_loss: 0.006642994936555624, time: 0:00:00.044663\n",
      "Epoch: 6, total_steps: 10, train_loss: 0.0114086689427495, time: 0:00:00.044816\n",
      "Epoch: 6, total_steps: 20, train_loss: 0.014958374202251434, time: 0:00:00.040488\n",
      "Epoch: 6, total_steps: 30, train_loss: 0.018293382599949837, time: 0:00:00.040742\n",
      "Epoch: 6, total_steps: 40, train_loss: 0.022401059046387672, time: 0:00:00.042758\n",
      "validating and saving the model at the end of epoch 6 \t Time Taken: 14 sec\n",
      "Epoch: 7, total_steps: 0, train_loss: 0.003385047195479274, time: 0:00:00.042002\n",
      "Epoch: 7, total_steps: 10, train_loss: 0.01037748996168375, time: 0:00:00.040606\n",
      "Epoch: 7, total_steps: 20, train_loss: 0.014241520315408707, time: 0:00:00.042081\n",
      "Epoch: 7, total_steps: 30, train_loss: 0.018470535054802895, time: 0:00:00.040749\n",
      "Epoch: 7, total_steps: 40, train_loss: 0.021949637681245804, time: 0:00:00.043222\n",
      "validating and saving the model at the end of epoch 7 \t Time Taken: 14 sec\n",
      "Epoch: 8, total_steps: 0, train_loss: 0.003959770780056715, time: 0:00:00.042834\n",
      "Epoch: 8, total_steps: 10, train_loss: 0.00744632538408041, time: 0:00:00.041540\n",
      "Epoch: 8, total_steps: 20, train_loss: 0.010945646092295647, time: 0:00:00.043032\n",
      "Epoch: 8, total_steps: 30, train_loss: 0.014089729636907578, time: 0:00:00.046482\n",
      "Epoch: 8, total_steps: 40, train_loss: 0.018825260922312737, time: 0:00:00.061752\n",
      "validating and saving the model at the end of epoch 8 \t Time Taken: 14 sec\n",
      "Epoch: 9, total_steps: 0, train_loss: 0.0045430720783770084, time: 0:00:00.045174\n",
      "Epoch: 9, total_steps: 10, train_loss: 0.007002814207226038, time: 0:00:00.040456\n",
      "Epoch: 9, total_steps: 20, train_loss: 0.0094896350055933, time: 0:00:00.038394\n",
      "Epoch: 9, total_steps: 30, train_loss: 0.01274812314659357, time: 0:00:00.038690\n",
      "Epoch: 9, total_steps: 40, train_loss: 0.01728883385658264, time: 0:00:00.038793\n",
      "validating and saving the model at the end of epoch 9 \t Time Taken: 14 sec\n",
      "Epoch: 10, total_steps: 0, train_loss: 0.0019717332907021046, time: 0:00:00.040476\n",
      "Epoch: 10, total_steps: 10, train_loss: 0.004920752253383398, time: 0:00:00.039228\n",
      "Epoch: 10, total_steps: 20, train_loss: 0.006494792643934488, time: 0:00:00.053534\n",
      "Epoch: 10, total_steps: 30, train_loss: 0.012314718216657639, time: 0:00:00.040008\n",
      "Epoch: 10, total_steps: 40, train_loss: 0.015914034098386765, time: 0:00:00.036504\n",
      "validating and saving the model at the end of epoch 10 \t Time Taken: 14 sec\n",
      "Epoch: 11, total_steps: 0, train_loss: 0.0030275825411081314, time: 0:00:00.038534\n",
      "Epoch: 11, total_steps: 10, train_loss: 0.007474150042980909, time: 0:00:00.037398\n",
      "Epoch: 11, total_steps: 20, train_loss: 0.01185515709221363, time: 0:00:00.036327\n",
      "Epoch: 11, total_steps: 30, train_loss: 0.015310670249164104, time: 0:00:00.040366\n",
      "Epoch: 11, total_steps: 40, train_loss: 0.01809232495725155, time: 0:00:00.061498\n",
      "validating and saving the model at the end of epoch 11 \t Time Taken: 14 sec\n",
      "Epoch: 12, total_steps: 0, train_loss: 0.00520968297496438, time: 0:00:00.038483\n",
      "Epoch: 12, total_steps: 10, train_loss: 0.006941200699657202, time: 0:00:00.036411\n",
      "Epoch: 12, total_steps: 20, train_loss: 0.009721384383738041, time: 0:00:00.036752\n",
      "Epoch: 12, total_steps: 30, train_loss: 0.011540999636054039, time: 0:00:00.036611\n",
      "Epoch: 12, total_steps: 40, train_loss: 0.0160606037825346, time: 0:00:00.036719\n",
      "validating and saving the model at the end of epoch 12 \t Time Taken: 14 sec\n"
     ]
    },
    {
     "name": "stderr",
     "output_type": "stream",
     "text": [
      "Process Process-28:\n",
      "Traceback (most recent call last):\n",
      "  File \"/home/turing/anaconda3/envs/pytorch/lib/python3.6/multiprocessing/process.py\", line 258, in _bootstrap\n",
      "    self.run()\n",
      "  File \"/home/turing/anaconda3/envs/pytorch/lib/python3.6/multiprocessing/process.py\", line 93, in run\n",
      "    self._target(*self._args, **self._kwargs)\n",
      "  File \"/home/turing/anaconda3/envs/pytorch/lib/python3.6/site-packages/torch/utils/data/dataloader.py\", line 106, in _worker_loop\n",
      "    samples = collate_fn([dataset[i] for i in batch_indices])\n",
      "  File \"/home/turing/anaconda3/envs/pytorch/lib/python3.6/site-packages/torch/utils/data/dataloader.py\", line 106, in <listcomp>\n",
      "    samples = collate_fn([dataset[i] for i in batch_indices])\n",
      "  File \"/home/turing/Documents/BE/dataset.py\", line 46, in __getitem__\n",
      "    source_image = self.transform(image)\n",
      "  File \"/home/turing/anaconda3/envs/pytorch/lib/python3.6/site-packages/torchvision-0.2.1-py3.6.egg/torchvision/transforms/transforms.py\", line 49, in __call__\n",
      "    img = t(img)\n",
      "  File \"/home/turing/Documents/BE/dataset.py\", line 21, in __call__\n",
      "    noise = np.random.randn(*img.shape) * stddev\n",
      "KeyboardInterrupt\n",
      "Exception ignored in: 'zmq.backend.cython.message.Frame.__dealloc__'\n",
      "Traceback (most recent call last):\n",
      "  File \"zmq/backend/cython/checkrc.pxd\", line 12, in zmq.backend.cython.checkrc._check_rc\n",
      "  File \"/home/turing/anaconda3/envs/pytorch/lib/python3.6/site-packages/torch/utils/data/dataloader.py\", line 227, in handler\n",
      "    _error_if_any_worker_fails()\n",
      "RuntimeError: DataLoader worker (pid 11918) exited unexpectedly with exit code 1. Details are lost due to multiprocessing. Rerunning with num_workers=0 may give better error trace.\n"
     ]
    },
    {
     "ename": "KeyboardInterrupt",
     "evalue": "",
     "output_type": "error",
     "traceback": [
      "\u001b[0;31m---------------------------------------------------------------------------\u001b[0m",
      "\u001b[0;31mKeyboardInterrupt\u001b[0m                         Traceback (most recent call last)",
      "\u001b[0;32m<ipython-input-11-d05107edfb17>\u001b[0m in \u001b[0;36m<module>\u001b[0;34m()\u001b[0m\n\u001b[0;32m----> 1\u001b[0;31m \u001b[0mNET\u001b[0m\u001b[0;34m.\u001b[0m\u001b[0mtrain\u001b[0m\u001b[0;34m(\u001b[0m\u001b[0mconfig\u001b[0m\u001b[0;34m)\u001b[0m\u001b[0;34m\u001b[0m\u001b[0m\n\u001b[0m",
      "\u001b[0;32m~/Documents/BE/noise2noise.py\u001b[0m in \u001b[0;36mtrain\u001b[0;34m(self, config)\u001b[0m\n\u001b[1;32m    123\u001b[0m                   (epoch, (datetime.now() - epoch_start_time).total_seconds()))\n\u001b[1;32m    124\u001b[0m \u001b[0;34m\u001b[0m\u001b[0m\n\u001b[0;32m--> 125\u001b[0;31m             \u001b[0mvalid_loss\u001b[0m\u001b[0;34m,\u001b[0m \u001b[0mvalid_time\u001b[0m\u001b[0;34m,\u001b[0m \u001b[0mvalid_psnr\u001b[0m \u001b[0;34m=\u001b[0m \u001b[0mself\u001b[0m\u001b[0;34m.\u001b[0m\u001b[0meval\u001b[0m\u001b[0;34m(\u001b[0m\u001b[0mconfig\u001b[0m\u001b[0;34m)\u001b[0m\u001b[0;34m\u001b[0m\u001b[0m\n\u001b[0m\u001b[1;32m    126\u001b[0m \u001b[0;34m\u001b[0m\u001b[0m\n\u001b[1;32m    127\u001b[0m             \u001b[0mself\u001b[0m\u001b[0;34m.\u001b[0m\u001b[0mschedular\u001b[0m\u001b[0;34m.\u001b[0m\u001b[0mstep\u001b[0m\u001b[0;34m(\u001b[0m\u001b[0mvalid_loss\u001b[0m\u001b[0;34m)\u001b[0m\u001b[0;34m\u001b[0m\u001b[0m\n",
      "\u001b[0;32m~/Documents/BE/noise2noise.py\u001b[0m in \u001b[0;36meval\u001b[0;34m(self, config)\u001b[0m\n\u001b[1;32m     31\u001b[0m         \u001b[0mpsnr_meter\u001b[0m \u001b[0;34m=\u001b[0m \u001b[0mAvgMeter\u001b[0m\u001b[0;34m(\u001b[0m\u001b[0;34m)\u001b[0m\u001b[0;34m\u001b[0m\u001b[0m\n\u001b[1;32m     32\u001b[0m \u001b[0;34m\u001b[0m\u001b[0m\n\u001b[0;32m---> 33\u001b[0;31m         \u001b[0;32mfor\u001b[0m \u001b[0m_\u001b[0m\u001b[0;34m,\u001b[0m \u001b[0mdata\u001b[0m \u001b[0;32min\u001b[0m \u001b[0menumerate\u001b[0m\u001b[0;34m(\u001b[0m\u001b[0mself\u001b[0m\u001b[0;34m.\u001b[0m\u001b[0mvalid_loader\u001b[0m\u001b[0;34m)\u001b[0m\u001b[0;34m:\u001b[0m\u001b[0;34m\u001b[0m\u001b[0m\n\u001b[0m\u001b[1;32m     34\u001b[0m \u001b[0;34m\u001b[0m\u001b[0m\n\u001b[1;32m     35\u001b[0m             \u001b[0minputs\u001b[0m\u001b[0;34m,\u001b[0m \u001b[0mlabels\u001b[0m \u001b[0;34m=\u001b[0m \u001b[0mdata\u001b[0m\u001b[0;34m\u001b[0m\u001b[0m\n",
      "\u001b[0;32m~/anaconda3/envs/pytorch/lib/python3.6/site-packages/torch/utils/data/dataloader.py\u001b[0m in \u001b[0;36m__next__\u001b[0;34m(self)\u001b[0m\n\u001b[1;32m    328\u001b[0m         \u001b[0;32mwhile\u001b[0m \u001b[0;32mTrue\u001b[0m\u001b[0;34m:\u001b[0m\u001b[0;34m\u001b[0m\u001b[0m\n\u001b[1;32m    329\u001b[0m             \u001b[0;32massert\u001b[0m \u001b[0;34m(\u001b[0m\u001b[0;32mnot\u001b[0m \u001b[0mself\u001b[0m\u001b[0;34m.\u001b[0m\u001b[0mshutdown\u001b[0m \u001b[0;32mand\u001b[0m \u001b[0mself\u001b[0m\u001b[0;34m.\u001b[0m\u001b[0mbatches_outstanding\u001b[0m \u001b[0;34m>\u001b[0m \u001b[0;36m0\u001b[0m\u001b[0;34m)\u001b[0m\u001b[0;34m\u001b[0m\u001b[0m\n\u001b[0;32m--> 330\u001b[0;31m             \u001b[0midx\u001b[0m\u001b[0;34m,\u001b[0m \u001b[0mbatch\u001b[0m \u001b[0;34m=\u001b[0m \u001b[0mself\u001b[0m\u001b[0;34m.\u001b[0m\u001b[0m_get_batch\u001b[0m\u001b[0;34m(\u001b[0m\u001b[0;34m)\u001b[0m\u001b[0;34m\u001b[0m\u001b[0m\n\u001b[0m\u001b[1;32m    331\u001b[0m             \u001b[0mself\u001b[0m\u001b[0;34m.\u001b[0m\u001b[0mbatches_outstanding\u001b[0m \u001b[0;34m-=\u001b[0m \u001b[0;36m1\u001b[0m\u001b[0;34m\u001b[0m\u001b[0m\n\u001b[1;32m    332\u001b[0m             \u001b[0;32mif\u001b[0m \u001b[0midx\u001b[0m \u001b[0;34m!=\u001b[0m \u001b[0mself\u001b[0m\u001b[0;34m.\u001b[0m\u001b[0mrcvd_idx\u001b[0m\u001b[0;34m:\u001b[0m\u001b[0;34m\u001b[0m\u001b[0m\n",
      "\u001b[0;32m~/anaconda3/envs/pytorch/lib/python3.6/site-packages/torch/utils/data/dataloader.py\u001b[0m in \u001b[0;36m_get_batch\u001b[0;34m(self)\u001b[0m\n\u001b[1;32m    307\u001b[0m                 \u001b[0;32mraise\u001b[0m \u001b[0mRuntimeError\u001b[0m\u001b[0;34m(\u001b[0m\u001b[0;34m'DataLoader timed out after {} seconds'\u001b[0m\u001b[0;34m.\u001b[0m\u001b[0mformat\u001b[0m\u001b[0;34m(\u001b[0m\u001b[0mself\u001b[0m\u001b[0;34m.\u001b[0m\u001b[0mtimeout\u001b[0m\u001b[0;34m)\u001b[0m\u001b[0;34m)\u001b[0m\u001b[0;34m\u001b[0m\u001b[0m\n\u001b[1;32m    308\u001b[0m         \u001b[0;32melse\u001b[0m\u001b[0;34m:\u001b[0m\u001b[0;34m\u001b[0m\u001b[0m\n\u001b[0;32m--> 309\u001b[0;31m             \u001b[0;32mreturn\u001b[0m \u001b[0mself\u001b[0m\u001b[0;34m.\u001b[0m\u001b[0mdata_queue\u001b[0m\u001b[0;34m.\u001b[0m\u001b[0mget\u001b[0m\u001b[0;34m(\u001b[0m\u001b[0;34m)\u001b[0m\u001b[0;34m\u001b[0m\u001b[0m\n\u001b[0m\u001b[1;32m    310\u001b[0m \u001b[0;34m\u001b[0m\u001b[0m\n\u001b[1;32m    311\u001b[0m     \u001b[0;32mdef\u001b[0m \u001b[0m__next__\u001b[0m\u001b[0;34m(\u001b[0m\u001b[0mself\u001b[0m\u001b[0;34m)\u001b[0m\u001b[0;34m:\u001b[0m\u001b[0;34m\u001b[0m\u001b[0m\n",
      "\u001b[0;32m~/anaconda3/envs/pytorch/lib/python3.6/multiprocessing/queues.py\u001b[0m in \u001b[0;36mget\u001b[0;34m(self)\u001b[0m\n\u001b[1;32m    333\u001b[0m     \u001b[0;32mdef\u001b[0m \u001b[0mget\u001b[0m\u001b[0;34m(\u001b[0m\u001b[0mself\u001b[0m\u001b[0;34m)\u001b[0m\u001b[0;34m:\u001b[0m\u001b[0;34m\u001b[0m\u001b[0m\n\u001b[1;32m    334\u001b[0m         \u001b[0;32mwith\u001b[0m \u001b[0mself\u001b[0m\u001b[0;34m.\u001b[0m\u001b[0m_rlock\u001b[0m\u001b[0;34m:\u001b[0m\u001b[0;34m\u001b[0m\u001b[0m\n\u001b[0;32m--> 335\u001b[0;31m             \u001b[0mres\u001b[0m \u001b[0;34m=\u001b[0m \u001b[0mself\u001b[0m\u001b[0;34m.\u001b[0m\u001b[0m_reader\u001b[0m\u001b[0;34m.\u001b[0m\u001b[0mrecv_bytes\u001b[0m\u001b[0;34m(\u001b[0m\u001b[0;34m)\u001b[0m\u001b[0;34m\u001b[0m\u001b[0m\n\u001b[0m\u001b[1;32m    336\u001b[0m         \u001b[0;31m# unserialize the data after having released the lock\u001b[0m\u001b[0;34m\u001b[0m\u001b[0;34m\u001b[0m\u001b[0m\n\u001b[1;32m    337\u001b[0m         \u001b[0;32mreturn\u001b[0m \u001b[0m_ForkingPickler\u001b[0m\u001b[0;34m.\u001b[0m\u001b[0mloads\u001b[0m\u001b[0;34m(\u001b[0m\u001b[0mres\u001b[0m\u001b[0;34m)\u001b[0m\u001b[0;34m\u001b[0m\u001b[0m\n",
      "\u001b[0;32m~/anaconda3/envs/pytorch/lib/python3.6/multiprocessing/connection.py\u001b[0m in \u001b[0;36mrecv_bytes\u001b[0;34m(self, maxlength)\u001b[0m\n\u001b[1;32m    214\u001b[0m         \u001b[0;32mif\u001b[0m \u001b[0mmaxlength\u001b[0m \u001b[0;32mis\u001b[0m \u001b[0;32mnot\u001b[0m \u001b[0;32mNone\u001b[0m \u001b[0;32mand\u001b[0m \u001b[0mmaxlength\u001b[0m \u001b[0;34m<\u001b[0m \u001b[0;36m0\u001b[0m\u001b[0;34m:\u001b[0m\u001b[0;34m\u001b[0m\u001b[0m\n\u001b[1;32m    215\u001b[0m             \u001b[0;32mraise\u001b[0m \u001b[0mValueError\u001b[0m\u001b[0;34m(\u001b[0m\u001b[0;34m\"negative maxlength\"\u001b[0m\u001b[0;34m)\u001b[0m\u001b[0;34m\u001b[0m\u001b[0m\n\u001b[0;32m--> 216\u001b[0;31m         \u001b[0mbuf\u001b[0m \u001b[0;34m=\u001b[0m \u001b[0mself\u001b[0m\u001b[0;34m.\u001b[0m\u001b[0m_recv_bytes\u001b[0m\u001b[0;34m(\u001b[0m\u001b[0mmaxlength\u001b[0m\u001b[0;34m)\u001b[0m\u001b[0;34m\u001b[0m\u001b[0m\n\u001b[0m\u001b[1;32m    217\u001b[0m         \u001b[0;32mif\u001b[0m \u001b[0mbuf\u001b[0m \u001b[0;32mis\u001b[0m \u001b[0;32mNone\u001b[0m\u001b[0;34m:\u001b[0m\u001b[0;34m\u001b[0m\u001b[0m\n\u001b[1;32m    218\u001b[0m             \u001b[0mself\u001b[0m\u001b[0;34m.\u001b[0m\u001b[0m_bad_message_length\u001b[0m\u001b[0;34m(\u001b[0m\u001b[0;34m)\u001b[0m\u001b[0;34m\u001b[0m\u001b[0m\n",
      "\u001b[0;32m~/anaconda3/envs/pytorch/lib/python3.6/multiprocessing/connection.py\u001b[0m in \u001b[0;36m_recv_bytes\u001b[0;34m(self, maxsize)\u001b[0m\n\u001b[1;32m    405\u001b[0m \u001b[0;34m\u001b[0m\u001b[0m\n\u001b[1;32m    406\u001b[0m     \u001b[0;32mdef\u001b[0m \u001b[0m_recv_bytes\u001b[0m\u001b[0;34m(\u001b[0m\u001b[0mself\u001b[0m\u001b[0;34m,\u001b[0m \u001b[0mmaxsize\u001b[0m\u001b[0;34m=\u001b[0m\u001b[0;32mNone\u001b[0m\u001b[0;34m)\u001b[0m\u001b[0;34m:\u001b[0m\u001b[0;34m\u001b[0m\u001b[0m\n\u001b[0;32m--> 407\u001b[0;31m         \u001b[0mbuf\u001b[0m \u001b[0;34m=\u001b[0m \u001b[0mself\u001b[0m\u001b[0;34m.\u001b[0m\u001b[0m_recv\u001b[0m\u001b[0;34m(\u001b[0m\u001b[0;36m4\u001b[0m\u001b[0;34m)\u001b[0m\u001b[0;34m\u001b[0m\u001b[0m\n\u001b[0m\u001b[1;32m    408\u001b[0m         \u001b[0msize\u001b[0m\u001b[0;34m,\u001b[0m \u001b[0;34m=\u001b[0m \u001b[0mstruct\u001b[0m\u001b[0;34m.\u001b[0m\u001b[0munpack\u001b[0m\u001b[0;34m(\u001b[0m\u001b[0;34m\"!i\"\u001b[0m\u001b[0;34m,\u001b[0m \u001b[0mbuf\u001b[0m\u001b[0;34m.\u001b[0m\u001b[0mgetvalue\u001b[0m\u001b[0;34m(\u001b[0m\u001b[0;34m)\u001b[0m\u001b[0;34m)\u001b[0m\u001b[0;34m\u001b[0m\u001b[0m\n\u001b[1;32m    409\u001b[0m         \u001b[0;32mif\u001b[0m \u001b[0mmaxsize\u001b[0m \u001b[0;32mis\u001b[0m \u001b[0;32mnot\u001b[0m \u001b[0;32mNone\u001b[0m \u001b[0;32mand\u001b[0m \u001b[0msize\u001b[0m \u001b[0;34m>\u001b[0m \u001b[0mmaxsize\u001b[0m\u001b[0;34m:\u001b[0m\u001b[0;34m\u001b[0m\u001b[0m\n",
      "\u001b[0;32m~/anaconda3/envs/pytorch/lib/python3.6/multiprocessing/connection.py\u001b[0m in \u001b[0;36m_recv\u001b[0;34m(self, size, read)\u001b[0m\n\u001b[1;32m    377\u001b[0m         \u001b[0mremaining\u001b[0m \u001b[0;34m=\u001b[0m \u001b[0msize\u001b[0m\u001b[0;34m\u001b[0m\u001b[0m\n\u001b[1;32m    378\u001b[0m         \u001b[0;32mwhile\u001b[0m \u001b[0mremaining\u001b[0m \u001b[0;34m>\u001b[0m \u001b[0;36m0\u001b[0m\u001b[0;34m:\u001b[0m\u001b[0;34m\u001b[0m\u001b[0m\n\u001b[0;32m--> 379\u001b[0;31m             \u001b[0mchunk\u001b[0m \u001b[0;34m=\u001b[0m \u001b[0mread\u001b[0m\u001b[0;34m(\u001b[0m\u001b[0mhandle\u001b[0m\u001b[0;34m,\u001b[0m \u001b[0mremaining\u001b[0m\u001b[0;34m)\u001b[0m\u001b[0;34m\u001b[0m\u001b[0m\n\u001b[0m\u001b[1;32m    380\u001b[0m             \u001b[0mn\u001b[0m \u001b[0;34m=\u001b[0m \u001b[0mlen\u001b[0m\u001b[0;34m(\u001b[0m\u001b[0mchunk\u001b[0m\u001b[0;34m)\u001b[0m\u001b[0;34m\u001b[0m\u001b[0m\n\u001b[1;32m    381\u001b[0m             \u001b[0;32mif\u001b[0m \u001b[0mn\u001b[0m \u001b[0;34m==\u001b[0m \u001b[0;36m0\u001b[0m\u001b[0;34m:\u001b[0m\u001b[0;34m\u001b[0m\u001b[0m\n",
      "\u001b[0;31mKeyboardInterrupt\u001b[0m: "
     ]
    }
   ],
   "source": [
    "NET.train(config)"
   ]
  },
  {
   "cell_type": "code",
   "execution_count": null,
   "metadata": {},
   "outputs": [],
   "source": []
  }
 ],
 "metadata": {
  "kernelspec": {
   "display_name": "Python [conda env:pytorch]",
   "language": "python",
   "name": "conda-env-pytorch-py"
  },
  "language_info": {
   "codemirror_mode": {
    "name": "ipython",
    "version": 3
   },
   "file_extension": ".py",
   "mimetype": "text/x-python",
   "name": "python",
   "nbconvert_exporter": "python",
   "pygments_lexer": "ipython3",
   "version": "3.6.6"
  }
 },
 "nbformat": 4,
 "nbformat_minor": 2
}
