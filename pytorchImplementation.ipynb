{
 "cells": [
  {
   "cell_type": "code",
   "execution_count": 1,
   "metadata": {},
   "outputs": [],
   "source": [
    "import torch\n",
    "import numpy as np\n",
    "from utils import *\n",
    "from dataset import *\n",
    "from noise2noise import Noise2Noise\n",
    "from torch.utils.data import DataLoader"
   ]
  },
  {
   "cell_type": "code",
   "execution_count": 2,
   "metadata": {},
   "outputs": [
    {
     "name": "stdout",
     "output_type": "stream",
     "text": [
      "cuda:0\n"
     ]
    }
   ],
   "source": [
    "device = torch.device(\"cuda:0\" if torch.cuda.is_available() else \"cpu\")\n",
    "print(device)"
   ]
  },
  {
   "cell_type": "code",
   "execution_count": 3,
   "metadata": {},
   "outputs": [],
   "source": [
    "# TODO\n",
    "# validation batch_size, \n",
    "# true_image dataset extraction loop\n",
    "# image_summary [index] : noise2noise.py : summary.py\n",
    "config = {\n",
    "    'device':device,\n",
    "    'dataset':'gaussian',\n",
    "    'batch_size_train':4,\n",
    "    'batch_size_valid':1,\n",
    "    'num_workers':4,\n",
    "    'learning_rate':0.001,\n",
    "    'checkpoint_dir': './models_trained/.',\n",
    "    'checkpoint_filename': 'latest.pt',\n",
    "    'root_dir':'/home/turing/Documents/BE/',\n",
    "    'log_dir': './log/',\n",
    "    'data_folder':'./data/',\n",
    "    'num_epochs': 100,\n",
    "}\n"
   ]
  },
  {
   "cell_type": "code",
   "execution_count": 4,
   "metadata": {},
   "outputs": [
    {
     "name": "stdout",
     "output_type": "stream",
     "text": [
      "gaussian dataset was created.\n",
      "gaussian dataset was created.\n"
     ]
    }
   ],
   "source": [
    "trainloader = datasetLoader(config, 'train')\n",
    "validloader = datasetLoader(config, 'valid')"
   ]
  },
  {
   "cell_type": "code",
   "execution_count": 5,
   "metadata": {},
   "outputs": [],
   "source": [
    "NET = Noise2Noise(config, trainloader, validloader,trainable=True)"
   ]
  },
  {
   "cell_type": "code",
   "execution_count": 6,
   "metadata": {},
   "outputs": [],
   "source": [
    "NET.load_model(config)"
   ]
  },
  {
   "cell_type": "code",
   "execution_count": null,
   "metadata": {},
   "outputs": [],
   "source": [
    "NET.loss_size"
   ]
  },
  {
   "cell_type": "code",
   "execution_count": 7,
   "metadata": {},
   "outputs": [
    {
     "name": "stderr",
     "output_type": "stream",
     "text": [
      "/home/turing/anaconda3/envs/pytorch/lib/python3.6/site-packages/torch/nn/modules/upsampling.py:122: UserWarning: nn.Upsampling is deprecated. Use nn.functional.interpolate instead.\n",
      "  warnings.warn(\"nn.Upsampling is deprecated. Use nn.functional.interpolate instead.\")\n"
     ]
    },
    {
     "name": "stdout",
     "output_type": "stream",
     "text": [
      "Epoch: 31, total_steps: 0, train_loss: 1787769984.0, time: 0:00:00.545267\n",
      "Epoch: 31, total_steps: 20, train_loss: 4009756032.0, time: 0:00:00.182984\n",
      "Epoch: 31, total_steps: 40, train_loss: 4384974304.0, time: 0:00:00.182696\n",
      "Epoch: 31, total_steps: 60, train_loss: 5173937312.0, time: 0:00:00.184091\n",
      "Epoch: 31, total_steps: 80, train_loss: 8254287008.0, time: 0:00:00.184354\n",
      "Epoch: 31, total_steps: 100, train_loss: 8412008784.0, time: 0:00:00.185528\n",
      "Epoch: 31, total_steps: 120, train_loss: 8502660392.0, time: 0:00:00.109122\n",
      "Epoch: 31, total_steps: 140, train_loss: 9393498984.0, time: 0:00:00.183345\n",
      "Epoch: 31, total_steps: 160, train_loss: 10744237544.0, time: 0:00:00.185176\n",
      "Epoch: 31, total_steps: 180, train_loss: 15714616296.0, time: 0:00:00.184560\n",
      "Epoch: 31, total_steps: 200, train_loss: 18119515624.0, time: 0:00:00.184962\n",
      "Epoch: 31, total_steps: 220, train_loss: 20400670952.0, time: 0:00:00.184860\n",
      "Epoch: 31, total_steps: 240, train_loss: 23790357736.0, time: 0:00:00.185552\n",
      "Epoch: 31, total_steps: 260, train_loss: 24198805576.0, time: 0:00:00.184650\n",
      "Epoch: 31, total_steps: 280, train_loss: 25781803720.0, time: 0:00:00.184303\n",
      "Epoch: 31, total_steps: 300, train_loss: 46807585480.0, time: 0:00:00.184564\n",
      "Epoch: 31, total_steps: 320, train_loss: 47381131528.0, time: 0:00:00.185052\n",
      "Epoch: 31, total_steps: 340, train_loss: 50395416840.0, time: 0:00:00.185214\n",
      "Epoch: 31, total_steps: 360, train_loss: 53415146760.0, time: 0:00:00.185268\n",
      "Epoch: 31, total_steps: 380, train_loss: 57073337608.0, time: 0:00:00.185134\n",
      "Epoch: 31, total_steps: 400, train_loss: 60033854472.0, time: 0:00:00.185396\n",
      "Epoch: 31, total_steps: 420, train_loss: 61290016008.0, time: 0:00:00.184565\n",
      "Epoch: 31, total_steps: 440, train_loss: 61695575400.0, time: 0:00:00.184847\n",
      "Epoch: 31, total_steps: 460, train_loss: 62630855848.0, time: 0:00:00.184887\n",
      "Epoch: 31, total_steps: 480, train_loss: 66752329896.0, time: 0:00:00.183780\n",
      "Epoch: 31, total_steps: 500, train_loss: 67172702920.0, time: 0:00:00.193888\n",
      "Epoch: 31, total_steps: 520, train_loss: 67518216936.0, time: 0:00:00.187006\n"
     ]
    },
    {
     "name": "stderr",
     "output_type": "stream",
     "text": [
      "Process Process-1:\n",
      "Process Process-2:\n",
      "Process Process-4:\n",
      "Process Process-3:\n",
      "Traceback (most recent call last):\n",
      "Traceback (most recent call last):\n",
      "  File \"/home/turing/anaconda3/envs/pytorch/lib/python3.6/multiprocessing/process.py\", line 258, in _bootstrap\n",
      "    self.run()\n",
      "  File \"/home/turing/anaconda3/envs/pytorch/lib/python3.6/multiprocessing/process.py\", line 258, in _bootstrap\n",
      "    self.run()\n",
      "  File \"/home/turing/anaconda3/envs/pytorch/lib/python3.6/multiprocessing/process.py\", line 93, in run\n",
      "    self._target(*self._args, **self._kwargs)\n",
      "  File \"/home/turing/anaconda3/envs/pytorch/lib/python3.6/multiprocessing/process.py\", line 93, in run\n",
      "    self._target(*self._args, **self._kwargs)\n",
      "  File \"/home/turing/anaconda3/envs/pytorch/lib/python3.6/site-packages/torch/utils/data/dataloader.py\", line 96, in _worker_loop\n",
      "    r = index_queue.get(timeout=MANAGER_STATUS_CHECK_INTERVAL)\n",
      "  File \"/home/turing/anaconda3/envs/pytorch/lib/python3.6/site-packages/torch/utils/data/dataloader.py\", line 96, in _worker_loop\n",
      "    r = index_queue.get(timeout=MANAGER_STATUS_CHECK_INTERVAL)\n",
      "  File \"/home/turing/anaconda3/envs/pytorch/lib/python3.6/multiprocessing/queues.py\", line 104, in get\n",
      "    if not self._poll(timeout):\n",
      "  File \"/home/turing/anaconda3/envs/pytorch/lib/python3.6/multiprocessing/connection.py\", line 257, in poll\n",
      "    return self._poll(timeout)\n",
      "  File \"/home/turing/anaconda3/envs/pytorch/lib/python3.6/multiprocessing/queues.py\", line 104, in get\n",
      "    if not self._poll(timeout):\n",
      "  File \"/home/turing/anaconda3/envs/pytorch/lib/python3.6/multiprocessing/connection.py\", line 414, in _poll\n",
      "    r = wait([self], timeout)\n",
      "  File \"/home/turing/anaconda3/envs/pytorch/lib/python3.6/multiprocessing/connection.py\", line 257, in poll\n",
      "    return self._poll(timeout)\n",
      "  File \"/home/turing/anaconda3/envs/pytorch/lib/python3.6/multiprocessing/connection.py\", line 414, in _poll\n",
      "    r = wait([self], timeout)\n",
      "  File \"/home/turing/anaconda3/envs/pytorch/lib/python3.6/multiprocessing/connection.py\", line 911, in wait\n",
      "    ready = selector.select(timeout)\n",
      "  File \"/home/turing/anaconda3/envs/pytorch/lib/python3.6/multiprocessing/connection.py\", line 911, in wait\n",
      "    ready = selector.select(timeout)\n",
      "  File \"/home/turing/anaconda3/envs/pytorch/lib/python3.6/selectors.py\", line 376, in select\n",
      "    fd_event_list = self._poll.poll(timeout)\n",
      "  File \"/home/turing/anaconda3/envs/pytorch/lib/python3.6/selectors.py\", line 376, in select\n",
      "    fd_event_list = self._poll.poll(timeout)\n",
      "KeyboardInterrupt\n",
      "KeyboardInterrupt\n",
      "Traceback (most recent call last):\n",
      "Traceback (most recent call last):\n",
      "  File \"/home/turing/anaconda3/envs/pytorch/lib/python3.6/multiprocessing/process.py\", line 258, in _bootstrap\n",
      "    self.run()\n",
      "  File \"/home/turing/anaconda3/envs/pytorch/lib/python3.6/multiprocessing/process.py\", line 258, in _bootstrap\n",
      "    self.run()\n",
      "  File \"/home/turing/anaconda3/envs/pytorch/lib/python3.6/multiprocessing/process.py\", line 93, in run\n",
      "    self._target(*self._args, **self._kwargs)\n",
      "  File \"/home/turing/anaconda3/envs/pytorch/lib/python3.6/multiprocessing/process.py\", line 93, in run\n",
      "    self._target(*self._args, **self._kwargs)\n",
      "  File \"/home/turing/anaconda3/envs/pytorch/lib/python3.6/site-packages/torch/utils/data/dataloader.py\", line 106, in _worker_loop\n",
      "    samples = collate_fn([dataset[i] for i in batch_indices])\n",
      "  File \"/home/turing/anaconda3/envs/pytorch/lib/python3.6/site-packages/torch/utils/data/dataloader.py\", line 106, in _worker_loop\n",
      "    samples = collate_fn([dataset[i] for i in batch_indices])\n",
      "  File \"/home/turing/anaconda3/envs/pytorch/lib/python3.6/site-packages/torch/utils/data/dataloader.py\", line 106, in <listcomp>\n",
      "    samples = collate_fn([dataset[i] for i in batch_indices])\n",
      "  File \"/home/turing/anaconda3/envs/pytorch/lib/python3.6/site-packages/torch/utils/data/dataloader.py\", line 106, in <listcomp>\n",
      "    samples = collate_fn([dataset[i] for i in batch_indices])\n",
      "  File \"/home/turing/Documents/BE/dataset.py\", line 59, in __getitem__\n",
      "    target_image = self.transform(image)\n",
      "  File \"/home/turing/Documents/BE/dataset.py\", line 59, in __getitem__\n",
      "    target_image = self.transform(image)\n",
      "  File \"/home/turing/anaconda3/envs/pytorch/lib/python3.6/site-packages/torchvision-0.2.1-py3.6.egg/torchvision/transforms/transforms.py\", line 49, in __call__\n",
      "    img = t(img)\n",
      "  File \"/home/turing/Documents/BE/dataset.py\", line 21, in __call__\n",
      "    noise = np.random.randn(*img.shape) * stddev\n",
      "  File \"/home/turing/anaconda3/envs/pytorch/lib/python3.6/site-packages/torchvision-0.2.1-py3.6.egg/torchvision/transforms/transforms.py\", line 49, in __call__\n",
      "    img = t(img)\n",
      "KeyboardInterrupt\n",
      "  File \"/home/turing/Documents/BE/dataset.py\", line 21, in __call__\n",
      "    noise = np.random.randn(*img.shape) * stddev\n",
      "KeyboardInterrupt\n"
     ]
    },
    {
     "ename": "KeyboardInterrupt",
     "evalue": "",
     "output_type": "error",
     "traceback": [
      "\u001b[0;31m---------------------------------------------------------------------------\u001b[0m",
      "\u001b[0;31mKeyboardInterrupt\u001b[0m                         Traceback (most recent call last)",
      "\u001b[0;32m<ipython-input-7-d05107edfb17>\u001b[0m in \u001b[0;36m<module>\u001b[0;34m()\u001b[0m\n\u001b[0;32m----> 1\u001b[0;31m \u001b[0mNET\u001b[0m\u001b[0;34m.\u001b[0m\u001b[0mtrain\u001b[0m\u001b[0;34m(\u001b[0m\u001b[0mconfig\u001b[0m\u001b[0;34m)\u001b[0m\u001b[0;34m\u001b[0m\u001b[0m\n\u001b[0m",
      "\u001b[0;32m~/Documents/BE/noise2noise.py\u001b[0m in \u001b[0;36mtrain\u001b[0;34m(self, config)\u001b[0m\n\u001b[1;32m    139\u001b[0m \u001b[0;34m\u001b[0m\u001b[0m\n\u001b[1;32m    140\u001b[0m                 \u001b[0;32mif\u001b[0m \u001b[0mtotal_steps\u001b[0m \u001b[0;34m%\u001b[0m \u001b[0;36m20\u001b[0m \u001b[0;34m==\u001b[0m \u001b[0;36m0\u001b[0m\u001b[0;34m:\u001b[0m\u001b[0;34m\u001b[0m\u001b[0m\n\u001b[0;32m--> 141\u001b[0;31m                     \u001b[0mrunning_loss\u001b[0m \u001b[0;34m+=\u001b[0m \u001b[0mself\u001b[0m\u001b[0;34m.\u001b[0m\u001b[0mloss_size\u001b[0m\u001b[0;34m.\u001b[0m\u001b[0mitem\u001b[0m\u001b[0;34m(\u001b[0m\u001b[0;34m)\u001b[0m\u001b[0;34m\u001b[0m\u001b[0m\n\u001b[0m\u001b[1;32m    142\u001b[0m \u001b[0;34m\u001b[0m\u001b[0m\n\u001b[1;32m    143\u001b[0m                     \u001b[0mt\u001b[0m \u001b[0;34m=\u001b[0m \u001b[0;34m(\u001b[0m\u001b[0mdatetime\u001b[0m\u001b[0;34m.\u001b[0m\u001b[0mnow\u001b[0m\u001b[0;34m(\u001b[0m\u001b[0;34m)\u001b[0m \u001b[0;34m-\u001b[0m \u001b[0miter_time_start\u001b[0m\u001b[0;34m)\u001b[0m \u001b[0;34m/\u001b[0m \u001b[0mconfig\u001b[0m\u001b[0;34m[\u001b[0m\u001b[0;34m'batch_size_train'\u001b[0m\u001b[0;34m]\u001b[0m\u001b[0;34m\u001b[0m\u001b[0m\n",
      "\u001b[0;31mKeyboardInterrupt\u001b[0m: "
     ]
    }
   ],
   "source": [
    "NET.train(config)"
   ]
  },
  {
   "cell_type": "code",
   "execution_count": null,
   "metadata": {},
   "outputs": [],
   "source": [
    "load()"
   ]
  },
  {
   "cell_type": "code",
   "execution_count": null,
   "metadata": {},
   "outputs": [],
   "source": [
    "true_images = trueImages.load_data()\n",
    "valid_images = validloader.load_data()"
   ]
  },
  {
   "cell_type": "code",
   "execution_count": null,
   "metadata": {},
   "outputs": [],
   "source": [
    "from logger import Logger\n",
    "from summary import viewSummary\n",
    "summary = viewSummary(config['log_dir'])\n",
    "import time"
   ]
  },
  {
   "cell_type": "code",
   "execution_count": null,
   "metadata": {},
   "outputs": [],
   "source": [
    "for epoch,(t,v) in enumerate(zip(true_images, valid_images)):\n",
    "    \n",
    "    src, trgt = v\n",
    "    summary.view_image({'true_images':src.view(-1,3,256,256)[:2].cpu().numpy(),\n",
    "                                     'output_images':t.view(-1,3,256,256)[:2].detach().cpu().numpy()}, epoch)\n",
    "    time.sleep(15)"
   ]
  },
  {
   "cell_type": "code",
   "execution_count": null,
   "metadata": {},
   "outputs": [],
   "source": [
    "Net."
   ]
  }
 ],
 "metadata": {
  "kernelspec": {
   "display_name": "Python [conda env:pytorch]",
   "language": "python",
   "name": "conda-env-pytorch-py"
  },
  "language_info": {
   "codemirror_mode": {
    "name": "ipython",
    "version": 3
   },
   "file_extension": ".py",
   "mimetype": "text/x-python",
   "name": "python",
   "nbconvert_exporter": "python",
   "pygments_lexer": "ipython3",
   "version": "3.6.6"
  }
 },
 "nbformat": 4,
 "nbformat_minor": 2
}
