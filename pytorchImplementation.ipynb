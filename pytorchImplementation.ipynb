{
 "cells": [
  {
   "cell_type": "code",
   "execution_count": null,
   "metadata": {},
   "outputs": [],
   "source": [
    "import torch\n",
    "import numpy as np\n",
    "from utils import *\n",
    "from dataset import *\n",
    "from noise2noise import Noise2Noise\n",
    "from torch.utils.data import DataLoader"
   ]
  },
  {
   "cell_type": "code",
   "execution_count": null,
   "metadata": {},
   "outputs": [],
   "source": [
    "device = torch.device(\"cuda:0\" if torch.cuda.is_available() else \"cpu\")\n",
    "print(device)"
   ]
  },
  {
   "cell_type": "code",
   "execution_count": null,
   "metadata": {},
   "outputs": [],
   "source": [
    "# TODO\n",
    "# validation batch_size, \n",
    "# true_image dataset extraction loop\n",
    "# image_summary [index] : noise2noise.py : summary.py\n",
    "config = {\n",
    "    'device':device,\n",
    "    'dataset':'gaussian',\n",
    "    'batch_size_train':12,\n",
    "    'batch_size_valid':1,\n",
    "    'num_workers':5,\n",
    "    'learning_rate':0.001,\n",
    "    'checkpoint_dir': './models_trained/.',\n",
    "    'checkpoint_filename': 'latest.pt',\n",
    "    'root_dir':'.',\n",
    "    'log_dir': './log/',\n",
    "    'data_folder':'./data/',\n",
    "    'num_epochs': 100,\n",
    "}\n"
   ]
  },
  {
   "cell_type": "code",
   "execution_count": null,
   "metadata": {},
   "outputs": [],
   "source": [
    "trainloader = datasetLoader(config, 'train')\n",
    "validloader = datasetLoader(config, 'valid')"
   ]
  },
  {
   "cell_type": "code",
   "execution_count": null,
   "metadata": {},
   "outputs": [],
   "source": [
    "NET = Noise2Noise(config, trainloader, validloader,trainable=True)"
   ]
  },
  {
   "cell_type": "code",
   "execution_count": null,
   "metadata": {},
   "outputs": [],
   "source": [
    "NET.load_model(config)"
   ]
  },
  {
   "cell_type": "code",
   "execution_count": null,
   "metadata": {},
   "outputs": [],
   "source": [
    "NET.loss_size"
   ]
  },
  {
   "cell_type": "code",
   "execution_count": null,
   "metadata": {},
   "outputs": [],
   "source": [
    "NET.train(config)"
   ]
  },
  {
   "cell_type": "code",
   "execution_count": null,
   "metadata": {},
   "outputs": [],
   "source": [
    "NET.epoch"
   ]
  },
  {
   "cell_type": "code",
   "execution_count": null,
   "metadata": {},
   "outputs": [],
   "source": [
    "load()"
   ]
  },
  {
   "cell_type": "code",
   "execution_count": null,
   "metadata": {},
   "outputs": [],
   "source": [
    "true_images = trueImages.load_data()\n",
    "valid_images = validloader.load_data()"
   ]
  },
  {
   "cell_type": "code",
   "execution_count": null,
   "metadata": {},
   "outputs": [],
   "source": [
    "from logger import Logger\n",
    "from summary import viewSummary\n",
    "summary = viewSummary(config['log_dir'])\n",
    "import time"
   ]
  },
  {
   "cell_type": "code",
   "execution_count": null,
   "metadata": {},
   "outputs": [],
   "source": [
    "for epoch,(t,v) in enumerate(zip(true_images, valid_images)):\n",
    "    \n",
    "    src, trgt = v\n",
    "    summary.view_image({'true_images':src.view(-1,3,256,256)[:2].cpu().numpy(),\n",
    "                                     'output_images':t.view(-1,3,256,256)[:2].detach().cpu().numpy()}, epoch)\n",
    "    time.sleep(15)"
   ]
  },
  {
   "cell_type": "code",
   "execution_count": null,
   "metadata": {},
   "outputs": [],
   "source": [
    "def true_image_dataset(config, image_name):\n",
    "    import os\n",
    "    from skimage import io\n",
    "    import torchvision.transforms as transforms\n",
    "    \n",
    "    path = os.path.join(config['root_dir'], config['data_folder'])\n",
    "    image_path = path + image_name\n",
    "    image = io.imread(image_path)\n",
    "    try:\n",
    "        if len(np.shape(image))==2:\n",
    "            image = np.stack((image)*3, axis=-1)\n",
    "    \n",
    "        transform_list = [transforms.ToPILImage(),\n",
    "                          transforms.Resize((256,256)),\n",
    "                          transforms.ToTensor()]\n",
    "\n",
    "        transform = transforms.Compose(transform_list)\n",
    "        img = transform(image)\n",
    "        return img\n",
    "    except:\n",
    "        print(image_path, image.shape)"
   ]
  },
  {
   "cell_type": "code",
   "execution_count": null,
   "metadata": {},
   "outputs": [],
   "source": [
    "img = true_image_dataset(config, 'ILSVRC2012_val_00028627.JPEG')"
   ]
  },
  {
   "cell_type": "code",
   "execution_count": null,
   "metadata": {},
   "outputs": [],
   "source": [
    "import matplotlib"
   ]
  },
  {
   "cell_type": "code",
   "execution_count": null,
   "metadata": {},
   "outputs": [],
   "source": [
    "from matplotlib import pyplot"
   ]
  },
  {
   "cell_type": "code",
   "execution_count": null,
   "metadata": {},
   "outputs": [],
   "source": [
    "pyplot.imshow(img)"
   ]
  },
  {
   "cell_type": "code",
   "execution_count": null,
   "metadata": {},
   "outputs": [],
   "source": [
    "img.view(-1,3,256,256)[:1]"
   ]
  },
  {
   "cell_type": "code",
   "execution_count": null,
   "metadata": {},
   "outputs": [],
   "source": []
  }
 ],
 "metadata": {
  "kernelspec": {
   "display_name": "Python 3",
   "language": "python",
   "name": "python3"
  },
  "language_info": {
   "codemirror_mode": {
    "name": "ipython",
    "version": 3
   },
   "file_extension": ".py",
   "mimetype": "text/x-python",
   "name": "python",
   "nbconvert_exporter": "python",
   "pygments_lexer": "ipython3",
   "version": "3.6.8"
  }
 },
 "nbformat": 4,
 "nbformat_minor": 2
}
