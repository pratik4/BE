{
 "cells": [
  {
   "cell_type": "code",
   "execution_count": 1,
   "metadata": {},
   "outputs": [],
   "source": [
    "import torch\n",
    "import numpy as np\n",
    "from utils import *\n",
    "from dataset import *\n",
    "from noise2noise import Noise2Noise\n",
    "from torch.utils.data import DataLoader"
   ]
  },
  {
   "cell_type": "code",
   "execution_count": 2,
   "metadata": {},
   "outputs": [
    {
     "name": "stdout",
     "output_type": "stream",
     "text": [
      "cuda:0\n"
     ]
    }
   ],
   "source": [
    "device = torch.device(\"cuda:0\" if torch.cuda.is_available() else \"cpu\")\n",
    "print(device)"
   ]
  },
  {
   "cell_type": "code",
   "execution_count": 3,
   "metadata": {},
   "outputs": [],
   "source": [
    "# TODO\n",
    "# validation batch_size, \n",
    "# true_image dataset extraction loop\n",
    "# image_summary [index] : noise2noise.py : summary.py\n",
    "config = {\n",
    "    'device':device,\n",
    "    'dataset':'gaussian',\n",
    "    'batch_size_train':12,\n",
    "    'batch_size_valid':1,\n",
    "    'num_workers':3,\n",
    "    'learning_rate':0.001,\n",
    "    'checkpoint_dir': './models_trained/.',\n",
    "    'checkpoint_filename': 'latest.pt',\n",
    "    'root_dir':'.',\n",
    "    'log_dir': './log/',\n",
    "    'data_folder':'./data/',\n",
    "    'num_epochs': 100,\n",
    "}\n"
   ]
  },
  {
   "cell_type": "code",
   "execution_count": 4,
   "metadata": {},
   "outputs": [
    {
     "name": "stdout",
     "output_type": "stream",
     "text": [
      "gaussian dataset was created.\n",
      "gaussian dataset was created.\n"
     ]
    }
   ],
   "source": [
    "trainloader = datasetLoader(config, 'train')\n",
    "validloader = datasetLoader(config, 'valid')"
   ]
  },
  {
   "cell_type": "code",
   "execution_count": 5,
   "metadata": {},
   "outputs": [],
   "source": [
    "NET = Noise2Noise(config, trainloader, validloader,trainable=True)"
   ]
  },
  {
   "cell_type": "code",
   "execution_count": 6,
   "metadata": {},
   "outputs": [],
   "source": [
    "NET.load_model(config)"
   ]
  },
  {
   "cell_type": "code",
   "execution_count": 7,
   "metadata": {},
   "outputs": [
    {
     "data": {
      "text/plain": [
       "tensor(3.4170e+08, device='cuda:0', requires_grad=True)"
      ]
     },
     "execution_count": 7,
     "metadata": {},
     "output_type": "execute_result"
    }
   ],
   "source": [
    "NET.loss_size"
   ]
  },
  {
   "cell_type": "code",
   "execution_count": null,
   "metadata": {},
   "outputs": [
    {
     "name": "stderr",
     "output_type": "stream",
     "text": [
      "D:\\Program_Files\\Miniconda3\\envs\\n2n\\lib\\site-packages\\torch\\nn\\modules\\upsampling.py:129: UserWarning: nn.Upsample is deprecated. Use nn.functional.interpolate instead.\n",
      "  warnings.warn(\"nn.{} is deprecated. Use nn.functional.interpolate instead.\".format(self.name))\n"
     ]
    },
    {
     "name": "stdout",
     "output_type": "stream",
     "text": [
      "Epoch: 32, total_steps: 0, train_loss: 2932331520.0, time: 0:00:00.300234\n",
      "Epoch: 32, total_steps: 20, train_loss: 7642713600.0, time: 0:00:00.096513\n",
      "Epoch: 32, total_steps: 40, train_loss: 9226304256.0, time: 0:00:00.099531\n",
      "Epoch: 32, total_steps: 60, train_loss: 11049798272.0, time: 0:00:00.097836\n"
     ]
    }
   ],
   "source": [
    "NET.train(config)"
   ]
  },
  {
   "cell_type": "code",
   "execution_count": null,
   "metadata": {},
   "outputs": [],
   "source": [
    "load()"
   ]
  },
  {
   "cell_type": "code",
   "execution_count": null,
   "metadata": {},
   "outputs": [],
   "source": [
    "true_images = trueImages.load_data()\n",
    "valid_images = validloader.load_data()"
   ]
  },
  {
   "cell_type": "code",
   "execution_count": null,
   "metadata": {},
   "outputs": [],
   "source": [
    "from logger import Logger\n",
    "from summary import viewSummary\n",
    "summary = viewSummary(config['log_dir'])\n",
    "import time"
   ]
  },
  {
   "cell_type": "code",
   "execution_count": null,
   "metadata": {},
   "outputs": [],
   "source": [
    "for epoch,(t,v) in enumerate(zip(true_images, valid_images)):\n",
    "    \n",
    "    src, trgt = v\n",
    "    summary.view_image({'true_images':src.view(-1,3,256,256)[:2].cpu().numpy(),\n",
    "                                     'output_images':t.view(-1,3,256,256)[:2].detach().cpu().numpy()}, epoch)\n",
    "    time.sleep(15)"
   ]
  },
  {
   "cell_type": "code",
   "execution_count": null,
   "metadata": {},
   "outputs": [],
   "source": [
    "Net."
   ]
  },
  {
   "cell_type": "code",
   "execution_count": null,
   "metadata": {},
   "outputs": [],
   "source": []
  }
 ],
 "metadata": {
  "kernelspec": {
   "display_name": "Python 3",
   "language": "python",
   "name": "python3"
  },
  "language_info": {
   "codemirror_mode": {
    "name": "ipython",
    "version": 3
   },
   "file_extension": ".py",
   "mimetype": "text/x-python",
   "name": "python",
   "nbconvert_exporter": "python",
   "pygments_lexer": "ipython3",
   "version": "3.6.8"
  }
 },
 "nbformat": 4,
 "nbformat_minor": 2
}
