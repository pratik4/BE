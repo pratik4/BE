{
 "cells": [
  {
   "cell_type": "code",
   "execution_count": 11,
   "metadata": {},
   "outputs": [],
   "source": [
    "import torch\n",
    "import torchvision.transforms as transforms\n",
    "from torch.utils.data import Dataset\n",
    "import torch.nn as nn \n",
    "import os\n",
    "from matplotlib import pyplot as plt\n",
    "from skimage import io, transform\n",
    "import numpy as np\n",
    "from torch.utils.data import DataLoader\n"
   ]
  },
  {
   "cell_type": "code",
   "execution_count": 12,
   "metadata": {},
   "outputs": [],
   "source": [
    "class ImageNetDataset(Dataset):\n",
    "    \n",
    "    def __init__(self, root_dir, data_folder, transform=None):\n",
    "        self.data_path = os.path.join(root_dir,data_folder)\n",
    "        self.data = os.listdir(self.data_path)\n",
    "        self.root = root_dir\n",
    "        self.transform = transform\n",
    "        \n",
    "    def __len__(self):\n",
    "        return len(self.data)\n",
    "\n",
    "    def __getitem__(self, index):\n",
    "        img_name = self.data[index]\n",
    "        img_path = os.path.join(self.data_path,img_name)\n",
    "        image = io.imread(img_path)\n",
    "        if self.transform:\n",
    "            image = self.transform(image)\n",
    "        \n",
    "        return image,img_name"
   ]
  },
  {
   "cell_type": "code",
   "execution_count": 13,
   "metadata": {},
   "outputs": [],
   "source": [
    "class addGaussian:\n",
    "    \n",
    "    def __init__(self, std_range):\n",
    "        self.std_range = std_range\n",
    "\n",
    "    def __call__(self,img):\n",
    "        minval,maxval = self.std_range\n",
    "        noise_img = img.astype(np.float)\n",
    "        stddev = np.random.uniform(minval, maxval)\n",
    "        noise = np.random.randn(*img.shape) * stddev\n",
    "        noise_img += noise\n",
    "        noise_img = np.clip(noise_img, 0, 255).astype(np.uint8)\n",
    "        return noise_img"
   ]
  },
  {
   "cell_type": "code",
   "execution_count": 14,
   "metadata": {},
   "outputs": [],
   "source": [
    "class Rescale(object):\n",
    "    \n",
    "    def __init__(self, output_size):\n",
    "        self.output_size = output_size\n",
    "\n",
    "    def __call__(self, sample):\n",
    "        image = sample\n",
    "        \n",
    "        new_h, new_w = self.output_size\n",
    "\n",
    "        img = transform.resize(image, (new_h, new_w))\n",
    "\n",
    "        return img\n"
   ]
  },
  {
   "cell_type": "code",
   "execution_count": 27,
   "metadata": {},
   "outputs": [],
   "source": [
    "trfmd_dataset = ImageNetDataset('/home/turing/Documents/BE/','data/', \n",
    "                               transform=transforms.Compose([\n",
    "                                   addGaussian((0,50)),\n",
    "                                   Rescale((256,256)),\n",
    "#                                    transforms.ToTensor()\n",
    "                               ]))"
   ]
  },
  {
   "cell_type": "code",
   "execution_count": 28,
   "metadata": {},
   "outputs": [],
   "source": [
    "trainloader = DataLoader(trfmd_dataset, batch_size=4, shuffle=True, num_workers=4)"
   ]
  },
  {
   "cell_type": "code",
   "execution_count": 18,
   "metadata": {},
   "outputs": [],
   "source": [
    "num_epochs = 200\n",
    "batch_size = 128\n",
    "learning_rate = 1e-3"
   ]
  },
  {
   "cell_type": "code",
   "execution_count": 19,
   "metadata": {},
   "outputs": [],
   "source": [
    "class Net(nn.Module):\n",
    "    \n",
    "    def __init__(self):\n",
    "        super(Net, self).__init__()\n",
    "        \n",
    "        self.encoder = nn.Sequential(\n",
    "            \n",
    "            # first and second layer.\n",
    "            # second layer\n",
    "            nn.Conv2d(3,48,3),\n",
    "            nn.LeakyReLU(True),            \n",
    "            nn.Conv2d(48,48,3),\n",
    "            nn.LeakyReLU(True),\n",
    "            nn.MaxPool2d(2,2),\n",
    "            \n",
    "            # third conv\n",
    "            nn.Conv2d(48,48,3),\n",
    "            nn.LeakyReLU(True),\n",
    "            nn.MaxPool2d(2,2),\n",
    "            \n",
    "            # fourth convolve\n",
    "            nn.Conv2d(48,48,3),\n",
    "            nn.LeakyReLU(True),\n",
    "            nn.MaxPool2d(2,2),\n",
    "\n",
    "            # fifth convolve\n",
    "            nn.Conv2d(48,48,3),\n",
    "            nn.LeakyReLU(True),\n",
    "            nn.MaxPool2d(2,2),\n",
    "            nn.Conv2d(48,48,3),\n",
    "            nn.LeakyReLU(True)\n",
    "        )\n",
    "        \n",
    "        self.decoder = nn.Sequential(\n",
    "            nn.ConvTranspose2d(48,96,3),\n",
    "            nn.LeakyReLU(True),\n",
    "            \n",
    "            nn.ConvTranspose2d(96,96,3),\n",
    "            nn.LeakyReLU(True),\n",
    "            \n",
    "            nn.ConvTranspose2d(96,96,3),\n",
    "            nn.LeakyReLU(True),\n",
    "            \n",
    "            nn.ConvTranspose2d(96,96,3),\n",
    "            nn.LeakyReLU(True),\n",
    "            \n",
    "            nn.ConvTranspose2d(96,96,3),\n",
    "            nn.LeakyReLU(True),\n",
    "\n",
    "            nn.ConvTranspose2d(96,96,3),\n",
    "            nn.LeakyReLU(True),\n",
    "            \n",
    "            nn.ConvTranspose2d(96,96,3),\n",
    "            nn.LeakyReLU(True),\n",
    "\n",
    "            nn.ConvTranspose2d(96,96,3),\n",
    "            nn.LeakyReLU(True),\n",
    "            \n",
    "            nn.ConvTranspose2d(96,64,3),\n",
    "            nn.LeakyReLU(True),\n",
    "            \n",
    "            nn.ConvTranspose2d(64,32,3),\n",
    "            nn.LeakyReLU(True),\n",
    "            \n",
    "            \n",
    "            nn.Conv2d(32,3,3),\n",
    "        )\n",
    "        \n",
    "        def forward(self, x):\n",
    "            x = self.encoder(x)\n",
    "            x = self.decoder(x)\n",
    "            \n",
    "            return x"
   ]
  }
 ],
 "metadata": {
  "kernelspec": {
   "display_name": "Python [conda env:pytorch]",
   "language": "python",
   "name": "conda-env-pytorch-py"
  },
  "language_info": {
   "codemirror_mode": {
    "name": "ipython",
    "version": 3
   },
   "file_extension": ".py",
   "mimetype": "text/x-python",
   "name": "python",
   "nbconvert_exporter": "python",
   "pygments_lexer": "ipython3",
   "version": "3.6.6"
  }
 },
 "nbformat": 4,
 "nbformat_minor": 2
}
